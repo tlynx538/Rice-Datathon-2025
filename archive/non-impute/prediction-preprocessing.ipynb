{
 "cells": [
  {
   "cell_type": "code",
   "execution_count": 1,
   "id": "bc77c87e-3aae-48ea-8bb6-75447e6d3f7f",
   "metadata": {},
   "outputs": [],
   "source": [
    "import pandas as pd \n",
    "import numpy as np\n",
    "from sklearn.model_selection import train_test_split\n",
    "from xgboost import XGBRegressor\n",
    "from sklearn.metrics import root_mean_squared_error\n",
    "from sklearn.metrics import r2_score"
   ]
  },
  {
   "cell_type": "code",
   "execution_count": 2,
   "id": "f47770c3-2bb3-422b-9e84-dcdcbd54ae95",
   "metadata": {},
   "outputs": [],
   "source": [
    "# step 1: import dataset\n",
    "df = pd.read_excel(\"../data/Chevron Challenge Materials/scoring.xlsx\",index_col=0)"
   ]
  },
  {
   "cell_type": "code",
   "execution_count": 3,
   "id": "06e874c0-40bf-4fc0-b896-b108cf984439",
   "metadata": {},
   "outputs": [
    {
     "data": {
      "text/html": [
       "<div>\n",
       "<style scoped>\n",
       "    .dataframe tbody tr th:only-of-type {\n",
       "        vertical-align: middle;\n",
       "    }\n",
       "\n",
       "    .dataframe tbody tr th {\n",
       "        vertical-align: top;\n",
       "    }\n",
       "\n",
       "    .dataframe thead th {\n",
       "        text-align: right;\n",
       "    }\n",
       "</style>\n",
       "<table border=\"1\" class=\"dataframe\">\n",
       "  <thead>\n",
       "    <tr style=\"text-align: right;\">\n",
       "      <th></th>\n",
       "      <th>Vehicle Category</th>\n",
       "      <th>GVWR Class</th>\n",
       "      <th>Fuel Type</th>\n",
       "      <th>Model Year</th>\n",
       "      <th>Fuel Technology</th>\n",
       "      <th>Electric Mile Range</th>\n",
       "      <th>Number of Vehicles Registered at the Same Address</th>\n",
       "      <th>Region</th>\n",
       "      <th>Vehicle Population</th>\n",
       "    </tr>\n",
       "    <tr>\n",
       "      <th>Date</th>\n",
       "      <th></th>\n",
       "      <th></th>\n",
       "      <th></th>\n",
       "      <th></th>\n",
       "      <th></th>\n",
       "      <th></th>\n",
       "      <th></th>\n",
       "      <th></th>\n",
       "      <th></th>\n",
       "    </tr>\n",
       "  </thead>\n",
       "  <tbody>\n",
       "    <tr>\n",
       "      <th>2024</th>\n",
       "      <td>P</td>\n",
       "      <td>Not Applicable</td>\n",
       "      <td>Gasoline</td>\n",
       "      <td>2020.0</td>\n",
       "      <td>ICE</td>\n",
       "      <td>Not Applicable</td>\n",
       "      <td>≥4</td>\n",
       "      <td>Statewide</td>\n",
       "      <td>316065</td>\n",
       "    </tr>\n",
       "    <tr>\n",
       "      <th>2024</th>\n",
       "      <td>P</td>\n",
       "      <td>Not Applicable</td>\n",
       "      <td>Gasoline</td>\n",
       "      <td>2021.0</td>\n",
       "      <td>ICE</td>\n",
       "      <td>Not Applicable</td>\n",
       "      <td>≥4</td>\n",
       "      <td>Statewide</td>\n",
       "      <td>315986</td>\n",
       "    </tr>\n",
       "    <tr>\n",
       "      <th>2024</th>\n",
       "      <td>P</td>\n",
       "      <td>Not Applicable</td>\n",
       "      <td>Gasoline</td>\n",
       "      <td>2022.0</td>\n",
       "      <td>ICE</td>\n",
       "      <td>Not Applicable</td>\n",
       "      <td>≥4</td>\n",
       "      <td>Statewide</td>\n",
       "      <td>306487</td>\n",
       "    </tr>\n",
       "    <tr>\n",
       "      <th>2024</th>\n",
       "      <td>P</td>\n",
       "      <td>Not Applicable</td>\n",
       "      <td>Gasoline</td>\n",
       "      <td>2024.0</td>\n",
       "      <td>ICE</td>\n",
       "      <td>Not Applicable</td>\n",
       "      <td>≥4</td>\n",
       "      <td>Statewide</td>\n",
       "      <td>284754</td>\n",
       "    </tr>\n",
       "    <tr>\n",
       "      <th>2024</th>\n",
       "      <td>P</td>\n",
       "      <td>Not Applicable</td>\n",
       "      <td>Gasoline</td>\n",
       "      <td>2023.0</td>\n",
       "      <td>ICE</td>\n",
       "      <td>Not Applicable</td>\n",
       "      <td>≥4</td>\n",
       "      <td>Statewide</td>\n",
       "      <td>284153</td>\n",
       "    </tr>\n",
       "  </tbody>\n",
       "</table>\n",
       "</div>"
      ],
      "text/plain": [
       "     Vehicle Category      GVWR Class Fuel Type  Model Year Fuel Technology  \\\n",
       "Date                                                                          \n",
       "2024                P  Not Applicable  Gasoline      2020.0             ICE   \n",
       "2024                P  Not Applicable  Gasoline      2021.0             ICE   \n",
       "2024                P  Not Applicable  Gasoline      2022.0             ICE   \n",
       "2024                P  Not Applicable  Gasoline      2024.0             ICE   \n",
       "2024                P  Not Applicable  Gasoline      2023.0             ICE   \n",
       "\n",
       "     Electric Mile Range Number of Vehicles Registered at the Same Address  \\\n",
       "Date                                                                         \n",
       "2024      Not Applicable                                                ≥4   \n",
       "2024      Not Applicable                                                ≥4   \n",
       "2024      Not Applicable                                                ≥4   \n",
       "2024      Not Applicable                                                ≥4   \n",
       "2024      Not Applicable                                                ≥4   \n",
       "\n",
       "         Region  Vehicle Population  \n",
       "Date                                 \n",
       "2024  Statewide              316065  \n",
       "2024  Statewide              315986  \n",
       "2024  Statewide              306487  \n",
       "2024  Statewide              284754  \n",
       "2024  Statewide              284153  "
      ]
     },
     "execution_count": 3,
     "metadata": {},
     "output_type": "execute_result"
    }
   ],
   "source": [
    "df.head()"
   ]
  },
  {
   "cell_type": "code",
   "execution_count": 4,
   "id": "a6fb55b6-6a14-4132-a1ec-b496d56b6672",
   "metadata": {},
   "outputs": [
    {
     "data": {
      "text/plain": [
       "Vehicle Category                                     False\n",
       "GVWR Class                                           False\n",
       "Fuel Type                                            False\n",
       "Model Year                                            True\n",
       "Fuel Technology                                      False\n",
       "Electric Mile Range                                  False\n",
       "Number of Vehicles Registered at the Same Address    False\n",
       "Region                                               False\n",
       "Vehicle Population                                   False\n",
       "dtype: bool"
      ]
     },
     "execution_count": 4,
     "metadata": {},
     "output_type": "execute_result"
    }
   ],
   "source": [
    "# perform cleaning to scoring dataset to produce predictions\n",
    "df.isna().any()"
   ]
  },
  {
   "cell_type": "code",
   "execution_count": 5,
   "id": "50a6d298-f90e-49b7-aecc-3b3de38573a8",
   "metadata": {},
   "outputs": [],
   "source": [
    "df.dropna(inplace=True)"
   ]
  },
  {
   "cell_type": "code",
   "execution_count": 6,
   "id": "f213479d-1500-4c2d-b383-62627d7c7f72",
   "metadata": {},
   "outputs": [],
   "source": [
    "df['Model Year'] = df['Model Year'].astype('Int64')"
   ]
  },
  {
   "cell_type": "code",
   "execution_count": 7,
   "id": "b4deff2e-dfc9-48e5-96c1-0fff0ca39a41",
   "metadata": {},
   "outputs": [],
   "source": [
    "df = df.drop(['Region'],axis=1)"
   ]
  },
  {
   "cell_type": "code",
   "execution_count": 8,
   "id": "0eeeffbc-73db-4a86-8f32-e9832b67c2e6",
   "metadata": {},
   "outputs": [],
   "source": [
    "gvwr_map = {\n",
    "    '1': 'Light-Duty',\n",
    "    '2': 'Light-Duty',\n",
    "    '3': 'Medium-Duty',\n",
    "    '4': 'Medium-Duty',\n",
    "    '5': 'Medium-Duty',\n",
    "    '6': 'Medium-Duty',\n",
    "    '7': 'Heavy-Duty',\n",
    "    '8': 'Heavy-Duty',\n",
    "    'Not Applicable': 'Not Applicable',\n",
    "    'Unknown': 'Unknown'\n",
    "}\n",
    "\n",
    "df['GVWR Group'] = df['GVWR Class'].map(gvwr_map)\n",
    "df = pd.get_dummies(df, columns=['GVWR Group'], prefix='GVWR')"
   ]
  },
  {
   "cell_type": "code",
   "execution_count": 9,
   "id": "6196534d-d834-4740-8b62-2baaded79e76",
   "metadata": {},
   "outputs": [],
   "source": [
    "df = df.drop(['GVWR Class'],axis=1)"
   ]
  },
  {
   "cell_type": "code",
   "execution_count": 10,
   "id": "a82c2000-dd4b-4ce0-b570-05ef138af84e",
   "metadata": {},
   "outputs": [],
   "source": [
    "# Define mappings for ordinal encoding\n",
    "mile_range_mapping = {\n",
    "    'Not Applicable': 0,\n",
    "    '0 to 50 miles': 1,\n",
    "    '51 to 100 miles': 2,\n",
    "    '101 to 150 miles': 3,\n",
    "    '>150 miles': 4,\n",
    "    'Unknown': -1\n",
    "}\n",
    "\n",
    "vehicle_count_mapping = {\n",
    "    '1': 1,\n",
    "    '2': 2,\n",
    "    '3': 3,\n",
    "    '≥4': 4,\n",
    "    'Unknown': -1\n",
    "}\n",
    "\n",
    "# Apply ordinal encoding\n",
    "df['Electric Mile Range'] = df['Electric Mile Range'].map(mile_range_mapping)\n",
    "df['Number of Vehicles Registered at the Same Address'] = df['Number of Vehicles Registered at the Same Address'].map(vehicle_count_mapping)"
   ]
  },
  {
   "cell_type": "code",
   "execution_count": 11,
   "id": "feca620d-cbd3-4def-ba71-39219cb5bc83",
   "metadata": {},
   "outputs": [],
   "source": [
    "df = pd.get_dummies(df, columns=['Vehicle Category', 'Fuel Type', 'Fuel Technology'], drop_first=True)"
   ]
  },
  {
   "cell_type": "code",
   "execution_count": 12,
   "id": "cd5cf5c6-1e75-45e2-899d-16dfeb544349",
   "metadata": {},
   "outputs": [
    {
     "data": {
      "text/plain": [
       "Index(['Model Year', 'Electric Mile Range',\n",
       "       'Number of Vehicles Registered at the Same Address',\n",
       "       'Vehicle Population', 'GVWR_Not Applicable', 'GVWR_Unknown',\n",
       "       'Vehicle Category_BS', 'Vehicle Category_BT', 'Vehicle Category_MC',\n",
       "       'Vehicle Category_MH', 'Vehicle Category_P', 'Vehicle Category_T1',\n",
       "       'Vehicle Category_T2', 'Vehicle Category_T3', 'Vehicle Category_T4',\n",
       "       'Vehicle Category_T5', 'Vehicle Category_T6', 'Vehicle Category_T7',\n",
       "       'Fuel Type_Electric', 'Fuel Type_Gasoline', 'Fuel Type_Hydrogen',\n",
       "       'Fuel Type_Natural Gas', 'Fuel Technology_FCEV', 'Fuel Technology_ICE',\n",
       "       'Fuel Technology_PHEV'],\n",
       "      dtype='object')"
      ]
     },
     "execution_count": 12,
     "metadata": {},
     "output_type": "execute_result"
    }
   ],
   "source": [
    "df.columns"
   ]
  },
  {
   "cell_type": "code",
   "execution_count": 13,
   "id": "5ca07d1f-11a1-4a24-91ae-22de6e90792a",
   "metadata": {},
   "outputs": [],
   "source": [
    "df.to_csv(\"../data/encoded-scoring.csv\")"
   ]
  }
 ],
 "metadata": {
  "kernelspec": {
   "display_name": "Python 3 (ipykernel)",
   "language": "python",
   "name": "python3"
  },
  "language_info": {
   "codemirror_mode": {
    "name": "ipython",
    "version": 3
   },
   "file_extension": ".py",
   "mimetype": "text/x-python",
   "name": "python",
   "nbconvert_exporter": "python",
   "pygments_lexer": "ipython3",
   "version": "3.13.0"
  }
 },
 "nbformat": 4,
 "nbformat_minor": 5
}
